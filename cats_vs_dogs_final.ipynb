{
 "cells": [
  {
   "cell_type": "code",
   "execution_count": 42,
   "id": "95207a80",
   "metadata": {},
   "outputs": [],
   "source": [
    "#подключаем необходимые библиотеки \n",
    "import numpy as np #для работы с массивами\n",
    "import tensorflow as tf #для работы с нейросетью\n",
    "import tensorflow_datasets as tfds # для загрузки датасета\n",
    "from tensorflow.keras.preprocessing.image import load_img, img_to_array #нужные нам функции\n",
    "from tensorflow.keras.layers import Dense, GlobalAveragePooling2D, Dropout #готовые модели нейронных сетей "
   ]
  },
  {
   "cell_type": "code",
   "execution_count": 20,
   "id": "3dbe39fa",
   "metadata": {},
   "outputs": [],
   "source": [
    "train, _= tfds.load('cats_vs_dogs', split=['train[:100%]'], with_info=True, as_supervised=True)#загружаем датасет cats_vs_dogs"
   ]
  },
  {
   "cell_type": "code",
   "execution_count": 21,
   "id": "a21af3fb",
   "metadata": {},
   "outputs": [],
   "source": [
    "#так как в датасете ресунки разных размеров,данная функция меняет размер изображения, делим размер на 255 потому что для нейросети так гораздо легче распознавать рисунок\n",
    "SIZE = 224\n",
    "def resize_image(img, label):\n",
    "  img = tf.cast(img, tf.float32)\n",
    "  img = tf.image.resize(img, (SIZE, SIZE))\n",
    "  img = img / 255.0\n",
    "  return img, label"
   ]
  },
  {
   "cell_type": "code",
   "execution_count": 22,
   "id": "23701d9c",
   "metadata": {},
   "outputs": [],
   "source": [
    "#тут приводим рисунки из датасета в нужный нам размер и делим его так как целиком она не поместиться в память видеокарты\n",
    "train_resized = train[0].map(resize_image)\n",
    "train_batches = train_resized.shuffle(1000).batch(16)"
   ]
  },
  {
   "cell_type": "code",
   "execution_count": 23,
   "id": "a5c8b18c",
   "metadata": {},
   "outputs": [],
   "source": [
    "#берем кусок из уже натренированного неросети “keras ”, базывые ее слои, ее не надо тренировать\n",
    "base_layers = tf.keras.applications.MobileNetV2(input_shape=(SIZE, SIZE, 3), include_top=False)\n",
    "base_layers.trainable = False"
   ]
  },
  {
   "cell_type": "code",
   "execution_count": 24,
   "id": "7ab90ea3",
   "metadata": {},
   "outputs": [],
   "source": [
    "#собираем нашу нейросеть\n",
    "#последовательно объявляем части нашей нейросети \n",
    "\n",
    "model = tf.keras.Sequential([\n",
    "                             base_layers,#Начальный базовый слой, которую мы выше взяли от нейросети keras\n",
    "                             GlobalAveragePooling2D(),#уменьшить картинку и учредить значение разных фитч\n",
    "                             Dropout(0.2),#20 % нейронов в процессе обучения случайным образом будут выключаться , это нужно чтобы нейросеть не заучивала наши данные , а что бы она пыталась найти какие то общие фичы\n",
    "                             Dense(1)\n",
    "])\n",
    "model.compile(optimizer='adam', loss=tf.keras.losses.BinaryCrossentropy(from_logits=True), metrics=['accuracy'])#скомпилируем модель"
   ]
  },
  {
   "cell_type": "code",
   "execution_count": 25,
   "id": "3334097e",
   "metadata": {
    "scrolled": true
   },
   "outputs": [
    {
     "name": "stdout",
     "output_type": "stream",
     "text": [
      "1454/1454 [==============================] - 775s 529ms/step - loss: 0.0651 - accuracy: 0.9765\n"
     ]
    },
    {
     "data": {
      "text/plain": [
       "<keras.callbacks.History at 0x1f14e164670>"
      ]
     },
     "execution_count": 25,
     "metadata": {},
     "output_type": "execute_result"
    }
   ],
   "source": [
    "#начинаем обучать нашу модель (нейросеть)\n",
    "#вызываем функцию fit. указываем данные на которых будет обучаться наша модель и также количество эпох, это то сколько раз пройдется наша модель по этим данным \n",
    "model.fit(train_batches, epochs=1)\n",
    "#в первой эпохе нейросеть обучилась точностью в 97,65 процентов  "
   ]
  },
  {
   "cell_type": "code",
   "execution_count": 26,
   "id": "2d651176",
   "metadata": {},
   "outputs": [
    {
     "name": "stdout",
     "output_type": "stream",
     "text": [
      "Epoch 1/2\n",
      "1454/1454 [==============================] - 740s 507ms/step - loss: 0.0455 - accuracy: 0.9835\n",
      "Epoch 2/2\n",
      "1454/1454 [==============================] - 801s 550ms/step - loss: 0.0400 - accuracy: 0.9862\n"
     ]
    },
    {
     "data": {
      "text/plain": [
       "<keras.callbacks.History at 0x1f14f3d5a50>"
      ]
     },
     "execution_count": 26,
     "metadata": {},
     "output_type": "execute_result"
    }
   ],
   "source": [
    "model.fit(train_batches, epochs=2)\n",
    "#после второго и третьего прогона точность дошла до  98,62 процента"
   ]
  },
  {
   "cell_type": "code",
   "execution_count": null,
   "id": "e83f863f",
   "metadata": {},
   "outputs": [],
   "source": []
  },
  {
   "cell_type": "code",
   "execution_count": 33,
   "id": "f78e36c8",
   "metadata": {},
   "outputs": [
    {
     "name": "stdout",
     "output_type": "stream",
     "text": [
      "1/1 [==============================] - 0s 67ms/step\n"
     ]
    },
    {
     "data": {
      "text/plain": [
       "array([[5.2415915]], dtype=float32)"
      ]
     },
     "execution_count": 33,
     "metadata": {},
     "output_type": "execute_result"
    }
   ],
   "source": [
    "#загружаю изображение \n",
    "#приминаю на нем те же самые преобразование, чтобы это подходило для нейросети  \n",
    "#и вызываю у модели функцию predict, которая и предскажет что же это, кошка или собака \n",
    "\n",
    "img = load_img(r'C:\\Users\\Zhenis\\Desktop\\cats_and_dogs\\dog.jpg')\n",
    "img_array = img_to_array(img)\n",
    "img_resized,_ = resize_image(img_array,_)\n",
    "img_expended = np.expand_dims(img_resized, axis =0)\n",
    "model.predict(img_expended)\n",
    "\n",
    "#на что нейросеть мне ответила значением 5.24\n",
    "#в начале в датасете кочки были отмечены нулем, а собаки единицей \n",
    "#и выходит так что если значение функций predict больше 0.5 то это собака, а если меньше 0.5 то это кошка , и чем дальше ответь нейросети от 0.5 тем она уверене в том что это собака или кошка  \n",
    "#у меня была фотка собаки и нейросеть более  чем уверена что это собака\n"
   ]
  },
  {
   "cell_type": "code",
   "execution_count": null,
   "id": "7ae8f3de",
   "metadata": {
    "scrolled": true
   },
   "outputs": [],
   "source": [
    " "
   ]
  },
  {
   "cell_type": "code",
   "execution_count": null,
   "id": "2322d4b9",
   "metadata": {},
   "outputs": [],
   "source": [
    "\n",
    "    "
   ]
  },
  {
   "cell_type": "code",
   "execution_count": null,
   "id": "94980e4a",
   "metadata": {},
   "outputs": [],
   "source": []
  }
 ],
 "metadata": {
  "kernelspec": {
   "display_name": "Python 3 (ipykernel)",
   "language": "python",
   "name": "python3"
  },
  "language_info": {
   "codemirror_mode": {
    "name": "ipython",
    "version": 3
   },
   "file_extension": ".py",
   "mimetype": "text/x-python",
   "name": "python",
   "nbconvert_exporter": "python",
   "pygments_lexer": "ipython3",
   "version": "3.10.2"
  }
 },
 "nbformat": 4,
 "nbformat_minor": 5
}
